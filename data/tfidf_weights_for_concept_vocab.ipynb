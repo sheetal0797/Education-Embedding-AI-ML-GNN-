{
  "nbformat": 4,
  "nbformat_minor": 0,
  "metadata": {
    "colab": {
      "provenance": []
    },
    "kernelspec": {
      "name": "python3",
      "display_name": "Python 3"
    },
    "language_info": {
      "name": "python"
    }
  },
  "cells": [
    {
      "cell_type": "code",
      "source": [
        "from google.colab import drive\n",
        "drive.mount('/content/drive')"
      ],
      "metadata": {
        "id": "OO5rG7sFSmsW"
      },
      "execution_count": null,
      "outputs": []
    },
    {
      "cell_type": "code",
      "execution_count": null,
      "metadata": {
        "id": "C3IiLF7JSZPB"
      },
      "outputs": [],
      "source": [
        "import pandas as pd"
      ]
    },
    {
      "cell_type": "markdown",
      "source": [
        "Load the \"adf_pc_1.csv\" and \"v2_df.csv\""
      ],
      "metadata": {
        "id": "5pdRZKVDEtA_"
      }
    },
    {
      "cell_type": "code",
      "source": [
        "adf = pd.read_csv('/content/drive/MyDrive/IIITB Docs/sem2/EduEmbed/EduEmbedd/data_prepare/adf_pc_1.csv')\n",
        "\n",
        "v2_df = pd.read_csv('/content/drive/MyDrive/IIITB Docs/sem2/EduEmbed/EduEmbedd/data_prepare/v2_df.csv')"
      ],
      "metadata": {
        "id": "Dxlm6DeiSndS"
      },
      "execution_count": null,
      "outputs": []
    },
    {
      "cell_type": "code",
      "source": [
        "adf.head()"
      ],
      "metadata": {
        "id": "7NfhISpkSnad"
      },
      "execution_count": null,
      "outputs": []
    },
    {
      "cell_type": "code",
      "source": [
        "v2_df.head()"
      ],
      "metadata": {
        "id": "c1oAlZ4pSnYj"
      },
      "execution_count": null,
      "outputs": []
    },
    {
      "cell_type": "code",
      "source": [
        "v2_list = v2_df['0']\n",
        "v2_list"
      ],
      "metadata": {
        "id": "w3-TMzo6SnWk"
      },
      "execution_count": null,
      "outputs": []
    },
    {
      "cell_type": "code",
      "source": [
        "v2_list[70]"
      ],
      "metadata": {
        "id": "Iz4ClLNLSnUc"
      },
      "execution_count": null,
      "outputs": []
    },
    {
      "cell_type": "markdown",
      "source": [
        "Remove the duplicate concept vocab in v2_list"
      ],
      "metadata": {
        "id": "W20PXQn_E2Pv"
      }
    },
    {
      "cell_type": "code",
      "source": [
        "v2_list_new = []\n",
        "for i in v2_list:\n",
        "  if(i not in v2_list_new):\n",
        "    v2_list_new.append(i)\n",
        "len(v2_list_new)"
      ],
      "metadata": {
        "id": "n47T73bQSuyx"
      },
      "execution_count": null,
      "outputs": []
    },
    {
      "cell_type": "markdown",
      "source": [
        "Below funtion is used to find the list of Concept Vocab for each of the document"
      ],
      "metadata": {
        "id": "yKL6jALNE8cG"
      }
    },
    {
      "cell_type": "code",
      "source": [
        "def cn_ci1(text):\n",
        "    text_l = text.split()\n",
        "    out_l = []\n",
        "    for id, txt in enumerate(text_l):\n",
        "        out = ['vi'+str(index) for index, word in enumerate(v2_list_new) if str(word) == str(txt)]\n",
        "        out_l.append(out)\n",
        "    out_l = [item for sublist in out_l for item in sublist]\n",
        "    unique_out_l = []\n",
        "    for x in out_l:\n",
        "      if(x not in unique_out_l):\n",
        "        unique_out_l.append(x)\n",
        "    return unique_out_l\n",
        "\n",
        "adf['concept_vocab_index'] = adf['join_text'].map(lambda s:cn_ci1(s))"
      ],
      "metadata": {
        "id": "lw0NQbGZSuv-"
      },
      "execution_count": null,
      "outputs": []
    },
    {
      "cell_type": "markdown",
      "source": [
        "Below funtion finds the Concept Vocab word present in each document"
      ],
      "metadata": {
        "id": "KwEdeSRRFDiv"
      }
    },
    {
      "cell_type": "code",
      "source": [
        "def concept_word(text):\n",
        "    text_l = text.split()\n",
        "    out_l = []\n",
        "    for id, txt in enumerate(text_l):\n",
        "        out = [word for index, word in enumerate(v2_list_new) if str(word) == str(txt)]\n",
        "        out_l.append(out)\n",
        "    out_l = [item for sublist in out_l for item in sublist]\n",
        "    unique_out_l = []\n",
        "    for x in out_l:\n",
        "      if(x not in unique_out_l):\n",
        "        unique_out_l.append(x)\n",
        "    return unique_out_l\n",
        "\n",
        "adf['concept_vocab_word'] = adf['join_text'].map(lambda s:concept_word(s))"
      ],
      "metadata": {
        "id": "F4qGvpp2Sut3"
      },
      "execution_count": null,
      "outputs": []
    },
    {
      "cell_type": "code",
      "source": [
        "adf[['concept_vocab_index', 'concept_vocab_word']].head(10)"
      ],
      "metadata": {
        "id": "La5s_7JgSzQv"
      },
      "execution_count": null,
      "outputs": []
    },
    {
      "cell_type": "code",
      "source": [
        "cvi = adf['concept_vocab_index']"
      ],
      "metadata": {
        "id": "Sv6pLJMhSzOE"
      },
      "execution_count": null,
      "outputs": []
    },
    {
      "cell_type": "code",
      "source": [
        "cvw = adf['concept_vocab_word']"
      ],
      "metadata": {
        "id": "AZjibi8xSzMV"
      },
      "execution_count": null,
      "outputs": []
    },
    {
      "cell_type": "code",
      "source": [
        "cvi[0]"
      ],
      "metadata": {
        "id": "q5KAXZkoSzKY"
      },
      "execution_count": null,
      "outputs": []
    },
    {
      "cell_type": "code",
      "source": [
        "len(cvi[0])"
      ],
      "metadata": {
        "id": "iazMv98HSurw"
      },
      "execution_count": null,
      "outputs": []
    },
    {
      "cell_type": "code",
      "source": [
        "len(cvw[0])"
      ],
      "metadata": {
        "id": "h0SNkwkjSupo"
      },
      "execution_count": null,
      "outputs": []
    },
    {
      "cell_type": "code",
      "source": [
        "\n",
        "from sklearn.feature_extraction.text import TfidfVectorizer\n",
        "import numpy as np"
      ],
      "metadata": {
        "id": "zR43mKW9S7Md"
      },
      "execution_count": null,
      "outputs": []
    },
    {
      "cell_type": "markdown",
      "source": [
        "Below function calculates the TfIdf Score for concept vocab words present in each document"
      ],
      "metadata": {
        "id": "wBkehHXJFKHU"
      }
    },
    {
      "cell_type": "code",
      "source": [
        "\n",
        "def _calculate_tfidf(text_list):\n",
        "    tfidf_vect = TfidfVectorizer()\n",
        "    tfidf = tfidf_vect.fit_transform(text_list)\n",
        "    df = pd.DataFrame(tfidf.todense(), columns = tfidf_vect.get_feature_names_out())\n",
        "    # df = pd.DataFrame(tfidf[0].T.todense(), index=tfidf_vect.get_feature_names_out(), columns=[\"TF-IDF\"])\n",
        "    return df\n",
        "\n",
        "temptfidf = _calculate_tfidf(adf['join_text'])"
      ],
      "metadata": {
        "id": "siVY4vw2S7KT"
      },
      "execution_count": null,
      "outputs": []
    },
    {
      "cell_type": "code",
      "source": [
        "temptfidf"
      ],
      "metadata": {
        "id": "Rhx91-1dS_Fz"
      },
      "execution_count": null,
      "outputs": []
    },
    {
      "cell_type": "code",
      "source": [
        "cols = temptfidf.columns\n",
        "cols"
      ],
      "metadata": {
        "id": "9L18VZuQS_CY"
      },
      "execution_count": null,
      "outputs": []
    },
    {
      "cell_type": "markdown",
      "source": [
        "Below code stores the TfIdf score in the DataFrame and it is saved as \"adf_with_tfidf.csv\" which will be used for further tasks."
      ],
      "metadata": {
        "id": "GYKkDlEiFUBF"
      }
    },
    {
      "cell_type": "code",
      "source": [
        "cvw_tfidf_score = []\n",
        "for i in range(len(temptfidf)):\n",
        "  cvw = adf.loc[i]['concept_vocab_word']\n",
        "  tfidf = temptfidf.loc[i]\n",
        "  # print(cvw)\n",
        "  # print(tfidf)\n",
        "  cvw_tfidf = []\n",
        "  for word in cvw:\n",
        "    for ind, col in enumerate(cols):\n",
        "      if (word==col):\n",
        "        cvw_tfidf.append(round(tfidf[ind],2))\n",
        "  # print(cvw_tfidf)\n",
        "  # print(len(cvw), len(cvw_tfidf))\n",
        "  cvw_tfidf_score.append(cvw_tfidf)\n",
        "\n",
        "\n",
        "adf['concept_vocab_word_tfidf'] = cvw_tfidf_score\n",
        "adf"
      ],
      "metadata": {
        "id": "gFukLY_cS_Am"
      },
      "execution_count": null,
      "outputs": []
    },
    {
      "cell_type": "code",
      "source": [
        "len(adf['concept_vocab_word_tfidf'][0])"
      ],
      "metadata": {
        "id": "y2bgvVj-S--o"
      },
      "execution_count": null,
      "outputs": []
    },
    {
      "cell_type": "code",
      "source": [
        "a = adf['concept_vocab_word'][5]\n",
        "b = adf['concept_vocab_word_tfidf'][5]\n",
        "print(a)\n",
        "print(b)"
      ],
      "metadata": {
        "id": "nTahtO9mS-9A"
      },
      "execution_count": null,
      "outputs": []
    },
    {
      "cell_type": "code",
      "source": [
        "adf.to_csv('adf_with_tfidf.csv')"
      ],
      "metadata": {
        "id": "huaS60xETEVt"
      },
      "execution_count": null,
      "outputs": []
    },
    {
      "cell_type": "code",
      "source": [
        "temptfidf.loc[5]['markov']"
      ],
      "metadata": {
        "id": "TlpytHcvTES_"
      },
      "execution_count": null,
      "outputs": []
    },
    {
      "cell_type": "code",
      "source": [
        "temptfidf.loc[5]['generalize']"
      ],
      "metadata": {
        "id": "tOdPFPiTTEQv"
      },
      "execution_count": null,
      "outputs": []
    },
    {
      "cell_type": "code",
      "source": [
        "temptfidf.loc[6]['information']"
      ],
      "metadata": {
        "id": "ftwtMN6kTEOp"
      },
      "execution_count": null,
      "outputs": []
    },
    {
      "cell_type": "code",
      "source": [
        "temptfidf.loc[7]['information']"
      ],
      "metadata": {
        "id": "vZib67JpS-7H"
      },
      "execution_count": null,
      "outputs": []
    },
    {
      "cell_type": "code",
      "source": [],
      "metadata": {
        "id": "I-vjpHIyTQaV"
      },
      "execution_count": null,
      "outputs": []
    },
    {
      "cell_type": "code",
      "source": [],
      "metadata": {
        "id": "Py3XhTFBTQYo"
      },
      "execution_count": null,
      "outputs": []
    },
    {
      "cell_type": "code",
      "source": [
        "import pandas as pd\n",
        "from sklearn.feature_extraction.text import TfidfVectorizer\n",
        "\n",
        "dataset = [\n",
        "    \"accuracy if the large amount if data is accessible accuracy will be more\",\n",
        "    \"five word with underscore are absolute_discounting absolute_temporal_expression abstract_word accented_syllabes\",\n",
        "    \"accuracy, words starting with a addone_smoothing, adequecy, adjacency_pairs, adjective, adjective_phrase, adjectives, adjunction_tag\",\n",
        "    \"some random words minimum_edit_distance, naive_bayes_classifier, pointwise_mutual, information\"\n",
        "]\n",
        "\n",
        "# def _calculate_tfidf(text_list):\n",
        "#     tfidf_vect = TfidfVectorizer()\n",
        "#     tfidf = tfidf_vect.fit_transform(text_list)\n",
        "#     df = pd.DataFrame(tfidf[0].T.todense(), index=tfidf_vect.get_feature_names_out(), columns=[\"TF-IDF\"])\n",
        "#     return df\n",
        "\n",
        "# dummytfidf = _calculate_tfidf(dataset)"
      ],
      "metadata": {
        "id": "KnpSfg8dTQWp"
      },
      "execution_count": null,
      "outputs": []
    },
    {
      "cell_type": "code",
      "source": [
        "tfidf_vect = TfidfVectorizer()\n",
        "tfidf = tfidf_vect.fit_transform(dataset)"
      ],
      "metadata": {
        "id": "xx5cXRe0TQUv"
      },
      "execution_count": null,
      "outputs": []
    },
    {
      "cell_type": "code",
      "source": [
        "df = pd.DataFrame(tfidf.todense(), columns = tfidf_vect.get_feature_names_out())"
      ],
      "metadata": {
        "id": "TcVvEHXLTQSk"
      },
      "execution_count": null,
      "outputs": []
    },
    {
      "cell_type": "code",
      "source": [
        "df"
      ],
      "metadata": {
        "id": "hqTPtRccTQRG"
      },
      "execution_count": null,
      "outputs": []
    },
    {
      "cell_type": "code",
      "source": [
        "tfidf = tfidf.todense()"
      ],
      "metadata": {
        "id": "ymEoSGwlTQPL"
      },
      "execution_count": null,
      "outputs": []
    },
    {
      "cell_type": "code",
      "source": [
        "tfidf"
      ],
      "metadata": {
        "id": "ow0JzEu7TW_7"
      },
      "execution_count": null,
      "outputs": []
    },
    {
      "cell_type": "code",
      "source": [
        "temptfidf.loc['accuracy'][0]"
      ],
      "metadata": {
        "id": "lNd13SwHTW9K"
      },
      "execution_count": null,
      "outputs": []
    },
    {
      "cell_type": "code",
      "source": [],
      "metadata": {
        "id": "Xk9R1o5aTW6-"
      },
      "execution_count": null,
      "outputs": []
    },
    {
      "cell_type": "code",
      "source": [],
      "metadata": {
        "id": "WT9Gd2aWTW48"
      },
      "execution_count": null,
      "outputs": []
    }
  ]
}